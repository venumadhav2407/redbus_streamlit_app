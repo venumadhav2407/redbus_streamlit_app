{
 "cells": [
  {
   "cell_type": "markdown",
   "metadata": {},
   "source": [
    "## Preprocessing the Dataset"
   ]
  },
  {
   "cell_type": "code",
   "execution_count": 40,
   "metadata": {},
   "outputs": [],
   "source": [
    "import os\n",
    "import pandas as pd"
   ]
  },
  {
   "cell_type": "code",
   "execution_count": 50,
   "metadata": {},
   "outputs": [],
   "source": [
    "def update_csv_file(file_path, states_lt):\n",
    "    \n",
    "    for state, path in zip(states_lt, file_path):\n",
    "        df = pd.read_csv(path)\n",
    "\n",
    "        # add the state column \n",
    "        df.insert(loc=0, column='State', value=state)\n",
    "\n",
    "        # save the csv\n",
    "        df.to_csv(path, index=False)"
   ]
  },
  {
   "cell_type": "code",
   "execution_count": 51,
   "metadata": {},
   "outputs": [],
   "source": [
    "\n",
    "\n",
    "# read the file in the folder\n",
    "path = os.listdir('./redbus_details/')\n",
    "file_path = [ os.path.join(\"./redbus_details/\", file) for file in path]\n",
    "\n",
    "list_of_states = [\"Andhra Pradesh\", \"Assam\", \"Himachal Pradesh\", \"Goa\", \"Kerala\", \"Rajasthan\",\n",
    "                                           \"South Bengal\",  \"Telangana\", \"Uttar Pradesh\", \"West Bengal\"]\n",
    "# update the state column\n",
    "update_csv_file(file_path, list_of_states)\n"
   ]
  },
  {
   "cell_type": "markdown",
   "metadata": {},
   "source": [
    "## Preprocessing and merge the all data into single file"
   ]
  },
  {
   "cell_type": "code",
   "execution_count": 52,
   "metadata": {},
   "outputs": [],
   "source": [
    "\n",
    "df = [ pd.read_csv(file) for file in file_path]\n",
    "\n",
    "# concatenate the all dataframe \n",
    "df_comb = pd.concat(df, ignore_index=True)\n",
    "\n",
    "# Remove the INR in the price column\n",
    "df_comb['Price'] = df_comb['Price'].str.replace('INR', '')\n",
    "\n",
    "# Extract the numeric value in the seat_availability column\n",
    "df_comb['Seat_Availability'] = df_comb['Seat_Availability'].str.extract(r\"(\\d+)\")\n",
    "\n",
    "\n",
    "# Add the id column to the dataset at first\n",
    "df_comb.insert(loc=0, column='id', value=range(1, len(df_comb)+1))\n",
    "\n",
    "df_comb.to_csv(\"redbus_routes.csv\", index=False)"
   ]
  },
  {
   "cell_type": "markdown",
   "metadata": {},
   "source": [
    "## Store the data into database"
   ]
  },
  {
   "cell_type": "code",
   "execution_count": 53,
   "metadata": {},
   "outputs": [],
   "source": [
    "from sqlite3 import connect\n",
    "\n",
    "conn = connect('redbus_db.db')\n",
    "curr = conn.cursor()"
   ]
  },
  {
   "cell_type": "code",
   "execution_count": 61,
   "metadata": {},
   "outputs": [],
   "source": [
    "import pandas as pd\n",
    "df = pd.read_csv('./redbus_routes.csv')"
   ]
  },
  {
   "cell_type": "code",
   "execution_count": 62,
   "metadata": {},
   "outputs": [],
   "source": [
    "# create a table\n",
    "table = \"\"\"\n",
    "    CREATE TABLE redbus_details (\n",
    "        id INT PRIMARY KEY,\n",
    "        state VARCHAR(100),\n",
    "        bus_name VARCHAR(255),\n",
    "        route_name VARCHAR(255),\n",
    "        bus_type VARCHAR(255),\n",
    "        departing_time VARCHAR(150),\n",
    "        duration VARCHAR(100),\n",
    "        reaching_time VARCHAR(150),\n",
    "        star_rating  DECIMAL(3,2),\n",
    "        price DECIMAL(10,2),\n",
    "        seat_availability INT,\n",
    "        route_link VARCHAR(255)  \n",
    "    );\n",
    "\"\"\""
   ]
  },
  {
   "cell_type": "code",
   "execution_count": 66,
   "metadata": {},
   "outputs": [
    {
     "data": {
      "text/plain": [
       "<sqlite3.Cursor at 0x237a0ceacc0>"
      ]
     },
     "execution_count": 66,
     "metadata": {},
     "output_type": "execute_result"
    }
   ],
   "source": [
    "# curr.execute(\"DROP TABLE IF EXISTS redbus_details;\")"
   ]
  },
  {
   "cell_type": "code",
   "execution_count": 67,
   "metadata": {},
   "outputs": [
    {
     "data": {
      "text/plain": [
       "<sqlite3.Cursor at 0x237a0ceacc0>"
      ]
     },
     "execution_count": 67,
     "metadata": {},
     "output_type": "execute_result"
    }
   ],
   "source": [
    "curr.execute(table)"
   ]
  },
  {
   "cell_type": "code",
   "execution_count": 68,
   "metadata": {},
   "outputs": [],
   "source": [
    "# insert the data into the table\n",
    "sql_query = \"\"\"\n",
    "    INSERT INTO redbus_details (\n",
    "        id, state, bus_name, route_name, bus_type, departing_time,\n",
    "        duration, reaching_time, star_rating, price, seat_availability, route_link\n",
    "    ) VALUES \n",
    "    (:id,:state, :bus_name, :route_name, :bus_type, :departing_time,\n",
    "    :duration, :reaching_time, :star_rating, :price, :seat_availability, :route_link);\n",
    "\"\"\"\n",
    "\n",
    "\n",
    "\n",
    "    \n",
    "for index, row in df.iterrows():\n",
    "    params = {\n",
    "        'id': row['id'],\n",
    "        'state' : row['State'],\n",
    "        'bus_name': row['Bus_Name'],\n",
    "        'route_name': row['Route_Name'],\n",
    "        'bus_type': row['Bus_Type'],\n",
    "        'departing_time': row['Departing_Time'],\n",
    "        'duration': row['Duration'],\n",
    "        'reaching_time': row['Reaching_Time'],\n",
    "        'star_rating': row['Star_Rating'],\n",
    "        'price': row['Price'],\n",
    "        'seat_availability': row['Seat_Availability'],\n",
    "        'route_link': row['Route_Link']\n",
    "    }\n",
    "    curr.execute(sql_query, params)\n",
    "    conn.commit()\n",
    "    "
   ]
  },
  {
   "cell_type": "code",
   "execution_count": 64,
   "metadata": {},
   "outputs": [
    {
     "data": {
      "text/plain": [
       "<sqlite3.Cursor at 0x237a0ceacc0>"
      ]
     },
     "execution_count": 64,
     "metadata": {},
     "output_type": "execute_result"
    }
   ],
   "source": [
    "# curr.execute(\"delete from  redbus_details;\")"
   ]
  },
  {
   "cell_type": "code",
   "execution_count": 70,
   "metadata": {},
   "outputs": [
    {
     "data": {
      "text/plain": [
       "array(['Tezpur to Guwahati', 'Guwahati to Tezpur',\n",
       "       'Guwahati to Nagaon (Assam)', 'Nagaon (Assam) to Guwahati',\n",
       "       'Goalpara to Guwahati', 'Jorhat to North Lakhimpur',\n",
       "       'Dhubri to Guwahati', 'Jorhat to Dibrugarh',\n",
       "       'North Lakhimpur to Sibsagar', 'Guwahati to Dhubri',\n",
       "       'Dibrugarh to Jorhat', 'Jorhat to Tinsukia', 'Tezpur to Dibrugarh',\n",
       "       'North Lakhimpur to Tezpur', 'Guwahati to Biswanath Charali',\n",
       "       'North Lakhimpur to Dibrugarh', 'Tinsukia to Jorhat',\n",
       "       'Tezpur to North Lakhimpur', 'Guwahati to Gohpur',\n",
       "       'Guwahati to Kaliabor', 'Dibrugarh to Tezpur',\n",
       "       'Biswanath Charali to Guwahati', 'Dibrugarh to North Lakhimpur',\n",
       "       'Tumuki (Tezpur Medical) to Guwahati',\n",
       "       'Biswanath Charali to Dibrugarh', 'Gohpur to Guwahati',\n",
       "       'North Lakhimpur to Guwahati', 'Haflong to Guwahati',\n",
       "       'Tezpur to Moran', 'Moran to Tezpur', 'Bokakhat to Dibrugarh',\n",
       "       'North Lakhimpur to Nagaon (Assam)', 'Guwahati to Golaghat',\n",
       "       'Dibrugarh to Biswanath Charali'], dtype=object)"
      ]
     },
     "execution_count": 70,
     "metadata": {},
     "output_type": "execute_result"
    }
   ],
   "source": [
    "dd = pd.read_sql(\"select * from redbus_details;\", conn)\n",
    "dd[dd['state']== 'Assam']['route_name'].unique()"
   ]
  }
 ],
 "metadata": {
  "kernelspec": {
   "display_name": "Python 3",
   "language": "python",
   "name": "python3"
  },
  "language_info": {
   "codemirror_mode": {
    "name": "ipython",
    "version": 3
   },
   "file_extension": ".py",
   "mimetype": "text/x-python",
   "name": "python",
   "nbconvert_exporter": "python",
   "pygments_lexer": "ipython3",
   "version": "3.12.0"
  }
 },
 "nbformat": 4,
 "nbformat_minor": 2
}
